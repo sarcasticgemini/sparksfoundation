{
 "cells": [
  {
   "cell_type": "markdown",
   "metadata": {},
   "source": [
    "Create a hybrid model for stock price/performance prediction using\n",
    "numerical analysis of historical stock prices, and sentimental analysis\n",
    "of news headlines"
   ]
  },
  {
   "cell_type": "code",
   "execution_count": 1,
   "metadata": {},
   "outputs": [],
   "source": [
    "import pandas as pd\n",
    "import warnings\n",
    "warnings.simplefilter(\"ignore\")\n",
    "#data visvulization\n",
    "import plotly.express as px\n",
    "from scipy import stats\n",
    "import matplotlib.pyplot as plt\n",
    "import numpy as np\n",
    "import plotly.figure_factory as ff\n",
    "import plotly.graph_objects as go"
   ]
  },
  {
   "cell_type": "code",
   "execution_count": 2,
   "metadata": {},
   "outputs": [],
   "source": [
    "data = pd.read_csv('data.csv')"
   ]
  },
  {
   "cell_type": "code",
   "execution_count": 3,
   "metadata": {},
   "outputs": [],
   "source": [
    "data1 = pd.read_csv('datast.csv')"
   ]
  },
  {
   "cell_type": "code",
   "execution_count": 4,
   "metadata": {},
   "outputs": [],
   "source": [
    "dat = pd.concat([data,data1], axis=1)"
   ]
  },
  {
   "cell_type": "code",
   "execution_count": 5,
   "metadata": {},
   "outputs": [
    {
     "data": {
      "text/html": [
       "<div>\n",
       "<style scoped>\n",
       "    .dataframe tbody tr th:only-of-type {\n",
       "        vertical-align: middle;\n",
       "    }\n",
       "\n",
       "    .dataframe tbody tr th {\n",
       "        vertical-align: top;\n",
       "    }\n",
       "\n",
       "    .dataframe thead th {\n",
       "        text-align: right;\n",
       "    }\n",
       "</style>\n",
       "<table border=\"1\" class=\"dataframe\">\n",
       "  <thead>\n",
       "    <tr style=\"text-align: right;\">\n",
       "      <th></th>\n",
       "      <th>publish_date</th>\n",
       "      <th>headline_text</th>\n",
       "      <th>category</th>\n",
       "      <th>Result</th>\n",
       "      <th>Date</th>\n",
       "      <th>Open</th>\n",
       "      <th>High</th>\n",
       "      <th>Low</th>\n",
       "      <th>Close</th>\n",
       "      <th>Adj Close</th>\n",
       "      <th>Volume</th>\n",
       "    </tr>\n",
       "  </thead>\n",
       "  <tbody>\n",
       "    <tr>\n",
       "      <th>0</th>\n",
       "      <td>2001</td>\n",
       "      <td>win over cena satisfying but defeating underta...</td>\n",
       "      <td>sports</td>\n",
       "      <td>positive</td>\n",
       "      <td>2000-04-03</td>\n",
       "      <td>5070.500000</td>\n",
       "      <td>5085.000000</td>\n",
       "      <td>4977.209961</td>\n",
       "      <td>5052.939941</td>\n",
       "      <td>5052.939941</td>\n",
       "      <td>0.0</td>\n",
       "    </tr>\n",
       "    <tr>\n",
       "      <th>1</th>\n",
       "      <td>2001</td>\n",
       "      <td>Status quo will not be disturbed at Ayodhya; s...</td>\n",
       "      <td>unknown</td>\n",
       "      <td>neutral</td>\n",
       "      <td>2000-04-04</td>\n",
       "      <td>4907.410156</td>\n",
       "      <td>4907.410156</td>\n",
       "      <td>4666.950195</td>\n",
       "      <td>4691.459961</td>\n",
       "      <td>4691.459961</td>\n",
       "      <td>0.0</td>\n",
       "    </tr>\n",
       "    <tr>\n",
       "      <th>2</th>\n",
       "      <td>2001</td>\n",
       "      <td>Fissures in Hurriyat over Pak visit</td>\n",
       "      <td>unknown</td>\n",
       "      <td>neutral</td>\n",
       "      <td>2000-04-05</td>\n",
       "      <td>4616.359863</td>\n",
       "      <td>4852.450195</td>\n",
       "      <td>4601.580078</td>\n",
       "      <td>4757.060059</td>\n",
       "      <td>4757.060059</td>\n",
       "      <td>0.0</td>\n",
       "    </tr>\n",
       "    <tr>\n",
       "      <th>3</th>\n",
       "      <td>2001</td>\n",
       "      <td>America's unwanted heading for India?</td>\n",
       "      <td>unknown</td>\n",
       "      <td>neutral</td>\n",
       "      <td>2000-04-06</td>\n",
       "      <td>4899.450195</td>\n",
       "      <td>4899.450195</td>\n",
       "      <td>4608.109863</td>\n",
       "      <td>4866.729980</td>\n",
       "      <td>4866.729980</td>\n",
       "      <td>0.0</td>\n",
       "    </tr>\n",
       "    <tr>\n",
       "      <th>4</th>\n",
       "      <td>2001</td>\n",
       "      <td>For bigwigs; it is destination Goa</td>\n",
       "      <td>unknown</td>\n",
       "      <td>neutral</td>\n",
       "      <td>2000-04-07</td>\n",
       "      <td>4987.100098</td>\n",
       "      <td>5222.799805</td>\n",
       "      <td>4987.100098</td>\n",
       "      <td>5219.200195</td>\n",
       "      <td>5219.200195</td>\n",
       "      <td>0.0</td>\n",
       "    </tr>\n",
       "    <tr>\n",
       "      <th>...</th>\n",
       "      <td>...</td>\n",
       "      <td>...</td>\n",
       "      <td>...</td>\n",
       "      <td>...</td>\n",
       "      <td>...</td>\n",
       "      <td>...</td>\n",
       "      <td>...</td>\n",
       "      <td>...</td>\n",
       "      <td>...</td>\n",
       "      <td>...</td>\n",
       "      <td>...</td>\n",
       "    </tr>\n",
       "    <tr>\n",
       "      <th>3297167</th>\n",
       "      <td>2020</td>\n",
       "      <td>why tiktok removed 1 65 crore videos in india</td>\n",
       "      <td>gadgets-news</td>\n",
       "      <td>neutral</td>\n",
       "      <td>NaN</td>\n",
       "      <td>NaN</td>\n",
       "      <td>NaN</td>\n",
       "      <td>NaN</td>\n",
       "      <td>NaN</td>\n",
       "      <td>NaN</td>\n",
       "      <td>NaN</td>\n",
       "    </tr>\n",
       "    <tr>\n",
       "      <th>3297168</th>\n",
       "      <td>2020</td>\n",
       "      <td>apurva asrani calls alia bhatts mother soni ra...</td>\n",
       "      <td>entertainment</td>\n",
       "      <td>neutral</td>\n",
       "      <td>NaN</td>\n",
       "      <td>NaN</td>\n",
       "      <td>NaN</td>\n",
       "      <td>NaN</td>\n",
       "      <td>NaN</td>\n",
       "      <td>NaN</td>\n",
       "      <td>NaN</td>\n",
       "    </tr>\n",
       "    <tr>\n",
       "      <th>3297169</th>\n",
       "      <td>2020</td>\n",
       "      <td>kangana ranaut gets a doll version of herself ...</td>\n",
       "      <td>entertainment</td>\n",
       "      <td>positive</td>\n",
       "      <td>NaN</td>\n",
       "      <td>NaN</td>\n",
       "      <td>NaN</td>\n",
       "      <td>NaN</td>\n",
       "      <td>NaN</td>\n",
       "      <td>NaN</td>\n",
       "      <td>NaN</td>\n",
       "    </tr>\n",
       "    <tr>\n",
       "      <th>3297170</th>\n",
       "      <td>2020</td>\n",
       "      <td>meezaan jaffrey reminisces his childhood days ...</td>\n",
       "      <td>entertainment</td>\n",
       "      <td>positive</td>\n",
       "      <td>NaN</td>\n",
       "      <td>NaN</td>\n",
       "      <td>NaN</td>\n",
       "      <td>NaN</td>\n",
       "      <td>NaN</td>\n",
       "      <td>NaN</td>\n",
       "      <td>NaN</td>\n",
       "    </tr>\n",
       "    <tr>\n",
       "      <th>3297171</th>\n",
       "      <td>2020</td>\n",
       "      <td>prabhas20 titled as radhe shyam prabhas and po...</td>\n",
       "      <td>entertainment</td>\n",
       "      <td>positive</td>\n",
       "      <td>NaN</td>\n",
       "      <td>NaN</td>\n",
       "      <td>NaN</td>\n",
       "      <td>NaN</td>\n",
       "      <td>NaN</td>\n",
       "      <td>NaN</td>\n",
       "      <td>NaN</td>\n",
       "    </tr>\n",
       "  </tbody>\n",
       "</table>\n",
       "<p>3297172 rows × 11 columns</p>\n",
       "</div>"
      ],
      "text/plain": [
       "         publish_date                                      headline_text  \\\n",
       "0                2001  win over cena satisfying but defeating underta...   \n",
       "1                2001  Status quo will not be disturbed at Ayodhya; s...   \n",
       "2                2001                Fissures in Hurriyat over Pak visit   \n",
       "3                2001              America's unwanted heading for India?   \n",
       "4                2001                 For bigwigs; it is destination Goa   \n",
       "...               ...                                                ...   \n",
       "3297167          2020      why tiktok removed 1 65 crore videos in india   \n",
       "3297168          2020  apurva asrani calls alia bhatts mother soni ra...   \n",
       "3297169          2020  kangana ranaut gets a doll version of herself ...   \n",
       "3297170          2020  meezaan jaffrey reminisces his childhood days ...   \n",
       "3297171          2020  prabhas20 titled as radhe shyam prabhas and po...   \n",
       "\n",
       "              category    Result        Date         Open         High  \\\n",
       "0               sports  positive  2000-04-03  5070.500000  5085.000000   \n",
       "1              unknown   neutral  2000-04-04  4907.410156  4907.410156   \n",
       "2              unknown   neutral  2000-04-05  4616.359863  4852.450195   \n",
       "3              unknown   neutral  2000-04-06  4899.450195  4899.450195   \n",
       "4              unknown   neutral  2000-04-07  4987.100098  5222.799805   \n",
       "...                ...       ...         ...          ...          ...   \n",
       "3297167   gadgets-news   neutral         NaN          NaN          NaN   \n",
       "3297168  entertainment   neutral         NaN          NaN          NaN   \n",
       "3297169  entertainment  positive         NaN          NaN          NaN   \n",
       "3297170  entertainment  positive         NaN          NaN          NaN   \n",
       "3297171  entertainment  positive         NaN          NaN          NaN   \n",
       "\n",
       "                 Low        Close    Adj Close  Volume  \n",
       "0        4977.209961  5052.939941  5052.939941     0.0  \n",
       "1        4666.950195  4691.459961  4691.459961     0.0  \n",
       "2        4601.580078  4757.060059  4757.060059     0.0  \n",
       "3        4608.109863  4866.729980  4866.729980     0.0  \n",
       "4        4987.100098  5219.200195  5219.200195     0.0  \n",
       "...              ...          ...          ...     ...  \n",
       "3297167          NaN          NaN          NaN     NaN  \n",
       "3297168          NaN          NaN          NaN     NaN  \n",
       "3297169          NaN          NaN          NaN     NaN  \n",
       "3297170          NaN          NaN          NaN     NaN  \n",
       "3297171          NaN          NaN          NaN     NaN  \n",
       "\n",
       "[3297172 rows x 11 columns]"
      ]
     },
     "execution_count": 5,
     "metadata": {},
     "output_type": "execute_result"
    }
   ],
   "source": [
    "dat"
   ]
  },
  {
   "cell_type": "code",
   "execution_count": 6,
   "metadata": {},
   "outputs": [],
   "source": [
    "df = dat.copy()"
   ]
  },
  {
   "cell_type": "code",
   "execution_count": 7,
   "metadata": {},
   "outputs": [
    {
     "data": {
      "text/plain": [
       "publish_date           0\n",
       "headline_text          0\n",
       "category               0\n",
       "Result                 0\n",
       "Date             3292040\n",
       "Open             3292040\n",
       "High             3292040\n",
       "Low              3292040\n",
       "Close            3292040\n",
       "Adj Close        3292040\n",
       "Volume           3292040\n",
       "dtype: int64"
      ]
     },
     "execution_count": 7,
     "metadata": {},
     "output_type": "execute_result"
    }
   ],
   "source": [
    "df.isnull().sum()"
   ]
  },
  {
   "cell_type": "code",
   "execution_count": 8,
   "metadata": {},
   "outputs": [],
   "source": [
    "df.drop('Date', axis = 1, inplace = True)"
   ]
  },
  {
   "cell_type": "code",
   "execution_count": 9,
   "metadata": {},
   "outputs": [],
   "source": [
    "df.drop('headline_text', axis = 1, inplace = True)"
   ]
  },
  {
   "cell_type": "code",
   "execution_count": 10,
   "metadata": {},
   "outputs": [],
   "source": [
    "df.drop('category', axis = 1, inplace = True)"
   ]
  },
  {
   "cell_type": "code",
   "execution_count": 11,
   "metadata": {},
   "outputs": [
    {
     "data": {
      "text/html": [
       "<div>\n",
       "<style scoped>\n",
       "    .dataframe tbody tr th:only-of-type {\n",
       "        vertical-align: middle;\n",
       "    }\n",
       "\n",
       "    .dataframe tbody tr th {\n",
       "        vertical-align: top;\n",
       "    }\n",
       "\n",
       "    .dataframe thead th {\n",
       "        text-align: right;\n",
       "    }\n",
       "</style>\n",
       "<table border=\"1\" class=\"dataframe\">\n",
       "  <thead>\n",
       "    <tr style=\"text-align: right;\">\n",
       "      <th></th>\n",
       "      <th>publish_date</th>\n",
       "      <th>Result</th>\n",
       "      <th>Open</th>\n",
       "      <th>High</th>\n",
       "      <th>Low</th>\n",
       "      <th>Close</th>\n",
       "      <th>Adj Close</th>\n",
       "      <th>Volume</th>\n",
       "    </tr>\n",
       "  </thead>\n",
       "  <tbody>\n",
       "    <tr>\n",
       "      <th>0</th>\n",
       "      <td>2001</td>\n",
       "      <td>positive</td>\n",
       "      <td>5070.500000</td>\n",
       "      <td>5085.000000</td>\n",
       "      <td>4977.209961</td>\n",
       "      <td>5052.939941</td>\n",
       "      <td>5052.939941</td>\n",
       "      <td>0.0</td>\n",
       "    </tr>\n",
       "    <tr>\n",
       "      <th>1</th>\n",
       "      <td>2001</td>\n",
       "      <td>neutral</td>\n",
       "      <td>4907.410156</td>\n",
       "      <td>4907.410156</td>\n",
       "      <td>4666.950195</td>\n",
       "      <td>4691.459961</td>\n",
       "      <td>4691.459961</td>\n",
       "      <td>0.0</td>\n",
       "    </tr>\n",
       "    <tr>\n",
       "      <th>2</th>\n",
       "      <td>2001</td>\n",
       "      <td>neutral</td>\n",
       "      <td>4616.359863</td>\n",
       "      <td>4852.450195</td>\n",
       "      <td>4601.580078</td>\n",
       "      <td>4757.060059</td>\n",
       "      <td>4757.060059</td>\n",
       "      <td>0.0</td>\n",
       "    </tr>\n",
       "    <tr>\n",
       "      <th>3</th>\n",
       "      <td>2001</td>\n",
       "      <td>neutral</td>\n",
       "      <td>4899.450195</td>\n",
       "      <td>4899.450195</td>\n",
       "      <td>4608.109863</td>\n",
       "      <td>4866.729980</td>\n",
       "      <td>4866.729980</td>\n",
       "      <td>0.0</td>\n",
       "    </tr>\n",
       "    <tr>\n",
       "      <th>4</th>\n",
       "      <td>2001</td>\n",
       "      <td>neutral</td>\n",
       "      <td>4987.100098</td>\n",
       "      <td>5222.799805</td>\n",
       "      <td>4987.100098</td>\n",
       "      <td>5219.200195</td>\n",
       "      <td>5219.200195</td>\n",
       "      <td>0.0</td>\n",
       "    </tr>\n",
       "  </tbody>\n",
       "</table>\n",
       "</div>"
      ],
      "text/plain": [
       "   publish_date    Result         Open         High          Low        Close  \\\n",
       "0          2001  positive  5070.500000  5085.000000  4977.209961  5052.939941   \n",
       "1          2001   neutral  4907.410156  4907.410156  4666.950195  4691.459961   \n",
       "2          2001   neutral  4616.359863  4852.450195  4601.580078  4757.060059   \n",
       "3          2001   neutral  4899.450195  4899.450195  4608.109863  4866.729980   \n",
       "4          2001   neutral  4987.100098  5222.799805  4987.100098  5219.200195   \n",
       "\n",
       "     Adj Close  Volume  \n",
       "0  5052.939941     0.0  \n",
       "1  4691.459961     0.0  \n",
       "2  4757.060059     0.0  \n",
       "3  4866.729980     0.0  \n",
       "4  5219.200195     0.0  "
      ]
     },
     "execution_count": 11,
     "metadata": {},
     "output_type": "execute_result"
    }
   ],
   "source": [
    "df.head()"
   ]
  },
  {
   "cell_type": "code",
   "execution_count": 12,
   "metadata": {},
   "outputs": [
    {
     "data": {
      "text/plain": [
       "publish_date          0\n",
       "Result                0\n",
       "Open            3292040\n",
       "High            3292040\n",
       "Low             3292040\n",
       "Close           3292040\n",
       "Adj Close       3292040\n",
       "Volume          3292040\n",
       "dtype: int64"
      ]
     },
     "execution_count": 12,
     "metadata": {},
     "output_type": "execute_result"
    }
   ],
   "source": [
    "df.isnull().sum()"
   ]
  },
  {
   "cell_type": "code",
   "execution_count": 13,
   "metadata": {},
   "outputs": [],
   "source": [
    "df['Open'] = df['Open'].fillna(df['Open'].mean())"
   ]
  },
  {
   "cell_type": "code",
   "execution_count": 14,
   "metadata": {},
   "outputs": [],
   "source": [
    "df['Close'] = df['Close'].fillna(df['Close'].mean())"
   ]
  },
  {
   "cell_type": "code",
   "execution_count": 15,
   "metadata": {},
   "outputs": [],
   "source": [
    "df['High'] = df['High'].fillna(df['High'].mean())"
   ]
  },
  {
   "cell_type": "code",
   "execution_count": 16,
   "metadata": {},
   "outputs": [],
   "source": [
    "df['Low'] = df['Low'].fillna(df['Low'].mean())"
   ]
  },
  {
   "cell_type": "code",
   "execution_count": 17,
   "metadata": {},
   "outputs": [],
   "source": [
    "df['Volume'] = df['Volume'].fillna(df['Volume'].mean())"
   ]
  },
  {
   "cell_type": "code",
   "execution_count": 18,
   "metadata": {},
   "outputs": [],
   "source": [
    "df['Adj Close'] = df['Adj Close'].fillna(df['Adj Close'].mean())"
   ]
  },
  {
   "cell_type": "code",
   "execution_count": 19,
   "metadata": {},
   "outputs": [
    {
     "data": {
      "text/plain": [
       "publish_date    0\n",
       "Result          0\n",
       "Open            0\n",
       "High            0\n",
       "Low             0\n",
       "Close           0\n",
       "Adj Close       0\n",
       "Volume          0\n",
       "dtype: int64"
      ]
     },
     "execution_count": 19,
     "metadata": {},
     "output_type": "execute_result"
    }
   ],
   "source": [
    "df.isnull().sum()"
   ]
  },
  {
   "cell_type": "code",
   "execution_count": 20,
   "metadata": {},
   "outputs": [],
   "source": [
    "from sklearn.preprocessing import LabelEncoder\n",
    "le = LabelEncoder()"
   ]
  },
  {
   "cell_type": "code",
   "execution_count": 21,
   "metadata": {},
   "outputs": [
    {
     "data": {
      "text/html": [
       "<div>\n",
       "<style scoped>\n",
       "    .dataframe tbody tr th:only-of-type {\n",
       "        vertical-align: middle;\n",
       "    }\n",
       "\n",
       "    .dataframe tbody tr th {\n",
       "        vertical-align: top;\n",
       "    }\n",
       "\n",
       "    .dataframe thead th {\n",
       "        text-align: right;\n",
       "    }\n",
       "</style>\n",
       "<table border=\"1\" class=\"dataframe\">\n",
       "  <thead>\n",
       "    <tr style=\"text-align: right;\">\n",
       "      <th></th>\n",
       "      <th>publish_date</th>\n",
       "      <th>Result</th>\n",
       "      <th>Open</th>\n",
       "      <th>High</th>\n",
       "      <th>Low</th>\n",
       "      <th>Close</th>\n",
       "      <th>Adj Close</th>\n",
       "      <th>Volume</th>\n",
       "    </tr>\n",
       "  </thead>\n",
       "  <tbody>\n",
       "    <tr>\n",
       "      <th>0</th>\n",
       "      <td>2001</td>\n",
       "      <td>2</td>\n",
       "      <td>5070.500000</td>\n",
       "      <td>5085.000000</td>\n",
       "      <td>4977.209961</td>\n",
       "      <td>5052.939941</td>\n",
       "      <td>5052.939941</td>\n",
       "      <td>0.000000</td>\n",
       "    </tr>\n",
       "    <tr>\n",
       "      <th>1</th>\n",
       "      <td>2001</td>\n",
       "      <td>1</td>\n",
       "      <td>4907.410156</td>\n",
       "      <td>4907.410156</td>\n",
       "      <td>4666.950195</td>\n",
       "      <td>4691.459961</td>\n",
       "      <td>4691.459961</td>\n",
       "      <td>0.000000</td>\n",
       "    </tr>\n",
       "    <tr>\n",
       "      <th>2</th>\n",
       "      <td>2001</td>\n",
       "      <td>1</td>\n",
       "      <td>4616.359863</td>\n",
       "      <td>4852.450195</td>\n",
       "      <td>4601.580078</td>\n",
       "      <td>4757.060059</td>\n",
       "      <td>4757.060059</td>\n",
       "      <td>0.000000</td>\n",
       "    </tr>\n",
       "    <tr>\n",
       "      <th>3</th>\n",
       "      <td>2001</td>\n",
       "      <td>1</td>\n",
       "      <td>4899.450195</td>\n",
       "      <td>4899.450195</td>\n",
       "      <td>4608.109863</td>\n",
       "      <td>4866.729980</td>\n",
       "      <td>4866.729980</td>\n",
       "      <td>0.000000</td>\n",
       "    </tr>\n",
       "    <tr>\n",
       "      <th>4</th>\n",
       "      <td>2001</td>\n",
       "      <td>1</td>\n",
       "      <td>4987.100098</td>\n",
       "      <td>5222.799805</td>\n",
       "      <td>4987.100098</td>\n",
       "      <td>5219.200195</td>\n",
       "      <td>5219.200195</td>\n",
       "      <td>0.000000</td>\n",
       "    </tr>\n",
       "    <tr>\n",
       "      <th>...</th>\n",
       "      <td>...</td>\n",
       "      <td>...</td>\n",
       "      <td>...</td>\n",
       "      <td>...</td>\n",
       "      <td>...</td>\n",
       "      <td>...</td>\n",
       "      <td>...</td>\n",
       "      <td>...</td>\n",
       "    </tr>\n",
       "    <tr>\n",
       "      <th>3297167</th>\n",
       "      <td>2020</td>\n",
       "      <td>1</td>\n",
       "      <td>17791.545972</td>\n",
       "      <td>17900.032539</td>\n",
       "      <td>17648.447422</td>\n",
       "      <td>17771.220723</td>\n",
       "      <td>17771.220723</td>\n",
       "      <td>77998.910675</td>\n",
       "    </tr>\n",
       "    <tr>\n",
       "      <th>3297168</th>\n",
       "      <td>2020</td>\n",
       "      <td>1</td>\n",
       "      <td>17791.545972</td>\n",
       "      <td>17900.032539</td>\n",
       "      <td>17648.447422</td>\n",
       "      <td>17771.220723</td>\n",
       "      <td>17771.220723</td>\n",
       "      <td>77998.910675</td>\n",
       "    </tr>\n",
       "    <tr>\n",
       "      <th>3297169</th>\n",
       "      <td>2020</td>\n",
       "      <td>2</td>\n",
       "      <td>17791.545972</td>\n",
       "      <td>17900.032539</td>\n",
       "      <td>17648.447422</td>\n",
       "      <td>17771.220723</td>\n",
       "      <td>17771.220723</td>\n",
       "      <td>77998.910675</td>\n",
       "    </tr>\n",
       "    <tr>\n",
       "      <th>3297170</th>\n",
       "      <td>2020</td>\n",
       "      <td>2</td>\n",
       "      <td>17791.545972</td>\n",
       "      <td>17900.032539</td>\n",
       "      <td>17648.447422</td>\n",
       "      <td>17771.220723</td>\n",
       "      <td>17771.220723</td>\n",
       "      <td>77998.910675</td>\n",
       "    </tr>\n",
       "    <tr>\n",
       "      <th>3297171</th>\n",
       "      <td>2020</td>\n",
       "      <td>2</td>\n",
       "      <td>17791.545972</td>\n",
       "      <td>17900.032539</td>\n",
       "      <td>17648.447422</td>\n",
       "      <td>17771.220723</td>\n",
       "      <td>17771.220723</td>\n",
       "      <td>77998.910675</td>\n",
       "    </tr>\n",
       "  </tbody>\n",
       "</table>\n",
       "<p>3297172 rows × 8 columns</p>\n",
       "</div>"
      ],
      "text/plain": [
       "         publish_date  Result          Open          High           Low  \\\n",
       "0                2001       2   5070.500000   5085.000000   4977.209961   \n",
       "1                2001       1   4907.410156   4907.410156   4666.950195   \n",
       "2                2001       1   4616.359863   4852.450195   4601.580078   \n",
       "3                2001       1   4899.450195   4899.450195   4608.109863   \n",
       "4                2001       1   4987.100098   5222.799805   4987.100098   \n",
       "...               ...     ...           ...           ...           ...   \n",
       "3297167          2020       1  17791.545972  17900.032539  17648.447422   \n",
       "3297168          2020       1  17791.545972  17900.032539  17648.447422   \n",
       "3297169          2020       2  17791.545972  17900.032539  17648.447422   \n",
       "3297170          2020       2  17791.545972  17900.032539  17648.447422   \n",
       "3297171          2020       2  17791.545972  17900.032539  17648.447422   \n",
       "\n",
       "                Close     Adj Close        Volume  \n",
       "0         5052.939941   5052.939941      0.000000  \n",
       "1         4691.459961   4691.459961      0.000000  \n",
       "2         4757.060059   4757.060059      0.000000  \n",
       "3         4866.729980   4866.729980      0.000000  \n",
       "4         5219.200195   5219.200195      0.000000  \n",
       "...               ...           ...           ...  \n",
       "3297167  17771.220723  17771.220723  77998.910675  \n",
       "3297168  17771.220723  17771.220723  77998.910675  \n",
       "3297169  17771.220723  17771.220723  77998.910675  \n",
       "3297170  17771.220723  17771.220723  77998.910675  \n",
       "3297171  17771.220723  17771.220723  77998.910675  \n",
       "\n",
       "[3297172 rows x 8 columns]"
      ]
     },
     "execution_count": 21,
     "metadata": {},
     "output_type": "execute_result"
    }
   ],
   "source": [
    "df['Result'] = pd.DataFrame(le.fit_transform(df['Result']))\n",
    "df"
   ]
  },
  {
   "cell_type": "code",
   "execution_count": 22,
   "metadata": {},
   "outputs": [],
   "source": [
    "dt  = [ 'Open',  'High', 'Low','Volume','Result']"
   ]
  },
  {
   "cell_type": "code",
   "execution_count": 23,
   "metadata": {},
   "outputs": [],
   "source": [
    "\n",
    "dataa = df[dt]\n",
    "dataa.reset_index(inplace = True)"
   ]
  },
  {
   "cell_type": "code",
   "execution_count": 24,
   "metadata": {},
   "outputs": [
    {
     "data": {
      "text/html": [
       "<div>\n",
       "<style scoped>\n",
       "    .dataframe tbody tr th:only-of-type {\n",
       "        vertical-align: middle;\n",
       "    }\n",
       "\n",
       "    .dataframe tbody tr th {\n",
       "        vertical-align: top;\n",
       "    }\n",
       "\n",
       "    .dataframe thead th {\n",
       "        text-align: right;\n",
       "    }\n",
       "</style>\n",
       "<table border=\"1\" class=\"dataframe\">\n",
       "  <thead>\n",
       "    <tr style=\"text-align: right;\">\n",
       "      <th></th>\n",
       "      <th>index</th>\n",
       "      <th>Open</th>\n",
       "      <th>High</th>\n",
       "      <th>Low</th>\n",
       "      <th>Volume</th>\n",
       "      <th>Result</th>\n",
       "    </tr>\n",
       "  </thead>\n",
       "  <tbody>\n",
       "    <tr>\n",
       "      <th>0</th>\n",
       "      <td>0</td>\n",
       "      <td>5070.500000</td>\n",
       "      <td>5085.000000</td>\n",
       "      <td>4977.209961</td>\n",
       "      <td>0.000000</td>\n",
       "      <td>2</td>\n",
       "    </tr>\n",
       "    <tr>\n",
       "      <th>1</th>\n",
       "      <td>1</td>\n",
       "      <td>4907.410156</td>\n",
       "      <td>4907.410156</td>\n",
       "      <td>4666.950195</td>\n",
       "      <td>0.000000</td>\n",
       "      <td>1</td>\n",
       "    </tr>\n",
       "    <tr>\n",
       "      <th>2</th>\n",
       "      <td>2</td>\n",
       "      <td>4616.359863</td>\n",
       "      <td>4852.450195</td>\n",
       "      <td>4601.580078</td>\n",
       "      <td>0.000000</td>\n",
       "      <td>1</td>\n",
       "    </tr>\n",
       "    <tr>\n",
       "      <th>3</th>\n",
       "      <td>3</td>\n",
       "      <td>4899.450195</td>\n",
       "      <td>4899.450195</td>\n",
       "      <td>4608.109863</td>\n",
       "      <td>0.000000</td>\n",
       "      <td>1</td>\n",
       "    </tr>\n",
       "    <tr>\n",
       "      <th>4</th>\n",
       "      <td>4</td>\n",
       "      <td>4987.100098</td>\n",
       "      <td>5222.799805</td>\n",
       "      <td>4987.100098</td>\n",
       "      <td>0.000000</td>\n",
       "      <td>1</td>\n",
       "    </tr>\n",
       "    <tr>\n",
       "      <th>...</th>\n",
       "      <td>...</td>\n",
       "      <td>...</td>\n",
       "      <td>...</td>\n",
       "      <td>...</td>\n",
       "      <td>...</td>\n",
       "      <td>...</td>\n",
       "    </tr>\n",
       "    <tr>\n",
       "      <th>3297167</th>\n",
       "      <td>3297167</td>\n",
       "      <td>17791.545972</td>\n",
       "      <td>17900.032539</td>\n",
       "      <td>17648.447422</td>\n",
       "      <td>77998.910675</td>\n",
       "      <td>1</td>\n",
       "    </tr>\n",
       "    <tr>\n",
       "      <th>3297168</th>\n",
       "      <td>3297168</td>\n",
       "      <td>17791.545972</td>\n",
       "      <td>17900.032539</td>\n",
       "      <td>17648.447422</td>\n",
       "      <td>77998.910675</td>\n",
       "      <td>1</td>\n",
       "    </tr>\n",
       "    <tr>\n",
       "      <th>3297169</th>\n",
       "      <td>3297169</td>\n",
       "      <td>17791.545972</td>\n",
       "      <td>17900.032539</td>\n",
       "      <td>17648.447422</td>\n",
       "      <td>77998.910675</td>\n",
       "      <td>2</td>\n",
       "    </tr>\n",
       "    <tr>\n",
       "      <th>3297170</th>\n",
       "      <td>3297170</td>\n",
       "      <td>17791.545972</td>\n",
       "      <td>17900.032539</td>\n",
       "      <td>17648.447422</td>\n",
       "      <td>77998.910675</td>\n",
       "      <td>2</td>\n",
       "    </tr>\n",
       "    <tr>\n",
       "      <th>3297171</th>\n",
       "      <td>3297171</td>\n",
       "      <td>17791.545972</td>\n",
       "      <td>17900.032539</td>\n",
       "      <td>17648.447422</td>\n",
       "      <td>77998.910675</td>\n",
       "      <td>2</td>\n",
       "    </tr>\n",
       "  </tbody>\n",
       "</table>\n",
       "<p>3297172 rows × 6 columns</p>\n",
       "</div>"
      ],
      "text/plain": [
       "           index          Open          High           Low        Volume  \\\n",
       "0              0   5070.500000   5085.000000   4977.209961      0.000000   \n",
       "1              1   4907.410156   4907.410156   4666.950195      0.000000   \n",
       "2              2   4616.359863   4852.450195   4601.580078      0.000000   \n",
       "3              3   4899.450195   4899.450195   4608.109863      0.000000   \n",
       "4              4   4987.100098   5222.799805   4987.100098      0.000000   \n",
       "...          ...           ...           ...           ...           ...   \n",
       "3297167  3297167  17791.545972  17900.032539  17648.447422  77998.910675   \n",
       "3297168  3297168  17791.545972  17900.032539  17648.447422  77998.910675   \n",
       "3297169  3297169  17791.545972  17900.032539  17648.447422  77998.910675   \n",
       "3297170  3297170  17791.545972  17900.032539  17648.447422  77998.910675   \n",
       "3297171  3297171  17791.545972  17900.032539  17648.447422  77998.910675   \n",
       "\n",
       "         Result  \n",
       "0             2  \n",
       "1             1  \n",
       "2             1  \n",
       "3             1  \n",
       "4             1  \n",
       "...         ...  \n",
       "3297167       1  \n",
       "3297168       1  \n",
       "3297169       2  \n",
       "3297170       2  \n",
       "3297171       2  \n",
       "\n",
       "[3297172 rows x 6 columns]"
      ]
     },
     "execution_count": 24,
     "metadata": {},
     "output_type": "execute_result"
    }
   ],
   "source": [
    "dataa"
   ]
  },
  {
   "cell_type": "code",
   "execution_count": 25,
   "metadata": {},
   "outputs": [],
   "source": [
    "dataa.drop('index', axis = 1, inplace = True)"
   ]
  },
  {
   "cell_type": "code",
   "execution_count": 26,
   "metadata": {},
   "outputs": [
    {
     "data": {
      "text/html": [
       "<div>\n",
       "<style scoped>\n",
       "    .dataframe tbody tr th:only-of-type {\n",
       "        vertical-align: middle;\n",
       "    }\n",
       "\n",
       "    .dataframe tbody tr th {\n",
       "        vertical-align: top;\n",
       "    }\n",
       "\n",
       "    .dataframe thead th {\n",
       "        text-align: right;\n",
       "    }\n",
       "</style>\n",
       "<table border=\"1\" class=\"dataframe\">\n",
       "  <thead>\n",
       "    <tr style=\"text-align: right;\">\n",
       "      <th></th>\n",
       "      <th>Open</th>\n",
       "      <th>High</th>\n",
       "      <th>Low</th>\n",
       "      <th>Volume</th>\n",
       "      <th>Result</th>\n",
       "    </tr>\n",
       "  </thead>\n",
       "  <tbody>\n",
       "    <tr>\n",
       "      <th>0</th>\n",
       "      <td>5070.500000</td>\n",
       "      <td>5085.000000</td>\n",
       "      <td>4977.209961</td>\n",
       "      <td>0.000000</td>\n",
       "      <td>2</td>\n",
       "    </tr>\n",
       "    <tr>\n",
       "      <th>1</th>\n",
       "      <td>4907.410156</td>\n",
       "      <td>4907.410156</td>\n",
       "      <td>4666.950195</td>\n",
       "      <td>0.000000</td>\n",
       "      <td>1</td>\n",
       "    </tr>\n",
       "    <tr>\n",
       "      <th>2</th>\n",
       "      <td>4616.359863</td>\n",
       "      <td>4852.450195</td>\n",
       "      <td>4601.580078</td>\n",
       "      <td>0.000000</td>\n",
       "      <td>1</td>\n",
       "    </tr>\n",
       "    <tr>\n",
       "      <th>3</th>\n",
       "      <td>4899.450195</td>\n",
       "      <td>4899.450195</td>\n",
       "      <td>4608.109863</td>\n",
       "      <td>0.000000</td>\n",
       "      <td>1</td>\n",
       "    </tr>\n",
       "    <tr>\n",
       "      <th>4</th>\n",
       "      <td>4987.100098</td>\n",
       "      <td>5222.799805</td>\n",
       "      <td>4987.100098</td>\n",
       "      <td>0.000000</td>\n",
       "      <td>1</td>\n",
       "    </tr>\n",
       "    <tr>\n",
       "      <th>...</th>\n",
       "      <td>...</td>\n",
       "      <td>...</td>\n",
       "      <td>...</td>\n",
       "      <td>...</td>\n",
       "      <td>...</td>\n",
       "    </tr>\n",
       "    <tr>\n",
       "      <th>3297167</th>\n",
       "      <td>17791.545972</td>\n",
       "      <td>17900.032539</td>\n",
       "      <td>17648.447422</td>\n",
       "      <td>77998.910675</td>\n",
       "      <td>1</td>\n",
       "    </tr>\n",
       "    <tr>\n",
       "      <th>3297168</th>\n",
       "      <td>17791.545972</td>\n",
       "      <td>17900.032539</td>\n",
       "      <td>17648.447422</td>\n",
       "      <td>77998.910675</td>\n",
       "      <td>1</td>\n",
       "    </tr>\n",
       "    <tr>\n",
       "      <th>3297169</th>\n",
       "      <td>17791.545972</td>\n",
       "      <td>17900.032539</td>\n",
       "      <td>17648.447422</td>\n",
       "      <td>77998.910675</td>\n",
       "      <td>2</td>\n",
       "    </tr>\n",
       "    <tr>\n",
       "      <th>3297170</th>\n",
       "      <td>17791.545972</td>\n",
       "      <td>17900.032539</td>\n",
       "      <td>17648.447422</td>\n",
       "      <td>77998.910675</td>\n",
       "      <td>2</td>\n",
       "    </tr>\n",
       "    <tr>\n",
       "      <th>3297171</th>\n",
       "      <td>17791.545972</td>\n",
       "      <td>17900.032539</td>\n",
       "      <td>17648.447422</td>\n",
       "      <td>77998.910675</td>\n",
       "      <td>2</td>\n",
       "    </tr>\n",
       "  </tbody>\n",
       "</table>\n",
       "<p>3297172 rows × 5 columns</p>\n",
       "</div>"
      ],
      "text/plain": [
       "                 Open          High           Low        Volume  Result\n",
       "0         5070.500000   5085.000000   4977.209961      0.000000       2\n",
       "1         4907.410156   4907.410156   4666.950195      0.000000       1\n",
       "2         4616.359863   4852.450195   4601.580078      0.000000       1\n",
       "3         4899.450195   4899.450195   4608.109863      0.000000       1\n",
       "4         4987.100098   5222.799805   4987.100098      0.000000       1\n",
       "...               ...           ...           ...           ...     ...\n",
       "3297167  17791.545972  17900.032539  17648.447422  77998.910675       1\n",
       "3297168  17791.545972  17900.032539  17648.447422  77998.910675       1\n",
       "3297169  17791.545972  17900.032539  17648.447422  77998.910675       2\n",
       "3297170  17791.545972  17900.032539  17648.447422  77998.910675       2\n",
       "3297171  17791.545972  17900.032539  17648.447422  77998.910675       2\n",
       "\n",
       "[3297172 rows x 5 columns]"
      ]
     },
     "execution_count": 26,
     "metadata": {},
     "output_type": "execute_result"
    }
   ],
   "source": [
    "dataa"
   ]
  },
  {
   "cell_type": "code",
   "execution_count": 27,
   "metadata": {},
   "outputs": [
    {
     "data": {
      "text/html": [
       "<div>\n",
       "<style scoped>\n",
       "    .dataframe tbody tr th:only-of-type {\n",
       "        vertical-align: middle;\n",
       "    }\n",
       "\n",
       "    .dataframe tbody tr th {\n",
       "        vertical-align: top;\n",
       "    }\n",
       "\n",
       "    .dataframe thead th {\n",
       "        text-align: right;\n",
       "    }\n",
       "</style>\n",
       "<table border=\"1\" class=\"dataframe\">\n",
       "  <thead>\n",
       "    <tr style=\"text-align: right;\">\n",
       "      <th></th>\n",
       "      <th>Open</th>\n",
       "      <th>High</th>\n",
       "      <th>Low</th>\n",
       "      <th>Volume</th>\n",
       "      <th>Result</th>\n",
       "    </tr>\n",
       "  </thead>\n",
       "  <tbody>\n",
       "    <tr>\n",
       "      <th>count</th>\n",
       "      <td>3.297172e+06</td>\n",
       "      <td>3.297172e+06</td>\n",
       "      <td>3.297172e+06</td>\n",
       "      <td>3.297172e+06</td>\n",
       "      <td>3.297172e+06</td>\n",
       "    </tr>\n",
       "    <tr>\n",
       "      <th>mean</th>\n",
       "      <td>1.779155e+04</td>\n",
       "      <td>1.790003e+04</td>\n",
       "      <td>1.764845e+04</td>\n",
       "      <td>7.799891e+04</td>\n",
       "      <td>1.060411e+00</td>\n",
       "    </tr>\n",
       "    <tr>\n",
       "      <th>std</th>\n",
       "      <td>4.347050e+02</td>\n",
       "      <td>4.362195e+02</td>\n",
       "      <td>4.320520e+02</td>\n",
       "      <td>4.121799e+04</td>\n",
       "      <td>5.461668e-01</td>\n",
       "    </tr>\n",
       "    <tr>\n",
       "      <th>min</th>\n",
       "      <td>2.621890e+03</td>\n",
       "      <td>2.682590e+03</td>\n",
       "      <td>2.594870e+03</td>\n",
       "      <td>0.000000e+00</td>\n",
       "      <td>0.000000e+00</td>\n",
       "    </tr>\n",
       "    <tr>\n",
       "      <th>25%</th>\n",
       "      <td>1.779155e+04</td>\n",
       "      <td>1.790003e+04</td>\n",
       "      <td>1.764845e+04</td>\n",
       "      <td>7.799891e+04</td>\n",
       "      <td>1.000000e+00</td>\n",
       "    </tr>\n",
       "    <tr>\n",
       "      <th>50%</th>\n",
       "      <td>1.779155e+04</td>\n",
       "      <td>1.790003e+04</td>\n",
       "      <td>1.764845e+04</td>\n",
       "      <td>7.799891e+04</td>\n",
       "      <td>1.000000e+00</td>\n",
       "    </tr>\n",
       "    <tr>\n",
       "      <th>75%</th>\n",
       "      <td>1.779155e+04</td>\n",
       "      <td>1.790003e+04</td>\n",
       "      <td>1.764845e+04</td>\n",
       "      <td>7.799891e+04</td>\n",
       "      <td>1.000000e+00</td>\n",
       "    </tr>\n",
       "    <tr>\n",
       "      <th>max</th>\n",
       "      <td>4.226300e+04</td>\n",
       "      <td>4.227387e+04</td>\n",
       "      <td>4.185029e+04</td>\n",
       "      <td>3.181510e+07</td>\n",
       "      <td>2.000000e+00</td>\n",
       "    </tr>\n",
       "  </tbody>\n",
       "</table>\n",
       "</div>"
      ],
      "text/plain": [
       "               Open          High           Low        Volume        Result\n",
       "count  3.297172e+06  3.297172e+06  3.297172e+06  3.297172e+06  3.297172e+06\n",
       "mean   1.779155e+04  1.790003e+04  1.764845e+04  7.799891e+04  1.060411e+00\n",
       "std    4.347050e+02  4.362195e+02  4.320520e+02  4.121799e+04  5.461668e-01\n",
       "min    2.621890e+03  2.682590e+03  2.594870e+03  0.000000e+00  0.000000e+00\n",
       "25%    1.779155e+04  1.790003e+04  1.764845e+04  7.799891e+04  1.000000e+00\n",
       "50%    1.779155e+04  1.790003e+04  1.764845e+04  7.799891e+04  1.000000e+00\n",
       "75%    1.779155e+04  1.790003e+04  1.764845e+04  7.799891e+04  1.000000e+00\n",
       "max    4.226300e+04  4.227387e+04  4.185029e+04  3.181510e+07  2.000000e+00"
      ]
     },
     "execution_count": 27,
     "metadata": {},
     "output_type": "execute_result"
    }
   ],
   "source": [
    "dataa.describe()"
   ]
  },
  {
   "cell_type": "code",
   "execution_count": 28,
   "metadata": {},
   "outputs": [
    {
     "data": {
      "text/plain": [
       "array([[ 5070.5       ,  5085.        ,  4977.209961  ,     0.        ],\n",
       "       [ 4907.410156  ,  4907.410156  ,  4666.950195  ,     0.        ],\n",
       "       [ 4616.359863  ,  4852.450195  ,  4601.580078  ,     0.        ],\n",
       "       ...,\n",
       "       [17791.54597174, 17900.03253854, 17648.44742168, 77998.91067538],\n",
       "       [17791.54597174, 17900.03253854, 17648.44742168, 77998.91067538],\n",
       "       [17791.54597174, 17900.03253854, 17648.44742168, 77998.91067538]])"
      ]
     },
     "execution_count": 28,
     "metadata": {},
     "output_type": "execute_result"
    }
   ],
   "source": [
    "X =  dataa.drop('Result', axis =1)\n",
    "X= dataa.iloc[:,0:4].values\n",
    "X"
   ]
  },
  {
   "cell_type": "code",
   "execution_count": 29,
   "metadata": {},
   "outputs": [
    {
     "data": {
      "text/plain": [
       "array([2, 1, 1, ..., 2, 2, 2])"
      ]
     },
     "execution_count": 29,
     "metadata": {},
     "output_type": "execute_result"
    }
   ],
   "source": [
    "y = dataa.iloc[:,-1].values\n",
    "y\n"
   ]
  },
  {
   "cell_type": "code",
   "execution_count": 30,
   "metadata": {},
   "outputs": [],
   "source": [
    "from sklearn.model_selection import train_test_split"
   ]
  },
  {
   "cell_type": "code",
   "execution_count": 31,
   "metadata": {},
   "outputs": [],
   "source": [
    "X_train,X_test,y_train,y_test= train_test_split(X,y,random_state = 0 , test_size = 0.33)"
   ]
  },
  {
   "cell_type": "code",
   "execution_count": 32,
   "metadata": {},
   "outputs": [
    {
     "data": {
      "text/plain": [
       "((2209105, 4), (2209105,))"
      ]
     },
     "execution_count": 32,
     "metadata": {},
     "output_type": "execute_result"
    }
   ],
   "source": [
    "X_train.shape,y_train.shape"
   ]
  },
  {
   "cell_type": "code",
   "execution_count": 33,
   "metadata": {},
   "outputs": [
    {
     "data": {
      "text/plain": [
       "array([[ 3.57169378e-05,  4.24173542e-05,  3.93484156e-05,\n",
       "        -2.08632971e-04],\n",
       "       [ 3.57169378e-05,  4.24173542e-05,  3.93484156e-05,\n",
       "        -2.08632971e-04],\n",
       "       [ 3.57169378e-05,  4.24173542e-05,  3.93484156e-05,\n",
       "        -2.08632971e-04],\n",
       "       ...,\n",
       "       [ 3.57169378e-05,  4.24173542e-05,  3.93484156e-05,\n",
       "        -2.08632971e-04],\n",
       "       [ 3.57169378e-05,  4.24173542e-05,  3.93484156e-05,\n",
       "        -2.08632971e-04],\n",
       "       [ 3.57169378e-05,  4.24173542e-05,  3.93484156e-05,\n",
       "        -2.08632971e-04]])"
      ]
     },
     "execution_count": 33,
     "metadata": {},
     "output_type": "execute_result"
    }
   ],
   "source": [
    "from sklearn.preprocessing import StandardScaler\n",
    "sc = StandardScaler()\n",
    "sc.fit_transform(X_train,y_train)"
   ]
  },
  {
   "cell_type": "code",
   "execution_count": 34,
   "metadata": {},
   "outputs": [],
   "source": [
    "from sklearn.tree import DecisionTreeClassifier\n",
    "from sklearn.metrics import accuracy_score\n",
    "from sklearn.metrics import confusion_matrix\n",
    "from sklearn import tree"
   ]
  },
  {
   "cell_type": "code",
   "execution_count": 35,
   "metadata": {},
   "outputs": [],
   "source": [
    "dt =  DecisionTreeClassifier()"
   ]
  },
  {
   "cell_type": "code",
   "execution_count": 36,
   "metadata": {},
   "outputs": [],
   "source": [
    "model = dt.fit(X_train,y_train)"
   ]
  },
  {
   "cell_type": "code",
   "execution_count": 37,
   "metadata": {},
   "outputs": [
    {
     "name": "stdout",
     "output_type": "stream",
     "text": [
      "0.6972980524177279\n"
     ]
    }
   ],
   "source": [
    "model_Score = model.score(X_test,y_test)\n",
    "y_pred = model.predict(X_test)\n",
    "print(model_Score)"
   ]
  },
  {
   "cell_type": "code",
   "execution_count": 38,
   "metadata": {},
   "outputs": [],
   "source": [
    "from sklearn.linear_model import LogisticRegression"
   ]
  },
  {
   "cell_type": "code",
   "execution_count": 39,
   "metadata": {},
   "outputs": [],
   "source": [
    "lr =  LogisticRegression()\n"
   ]
  },
  {
   "cell_type": "code",
   "execution_count": 40,
   "metadata": {},
   "outputs": [],
   "source": [
    "m1 = lr.fit(X_train,y_train)"
   ]
  },
  {
   "cell_type": "code",
   "execution_count": 41,
   "metadata": {},
   "outputs": [],
   "source": [
    "m1_score = m1.score(X_test,y_test)\n",
    "y_pre = m1.predict(X_test)\n"
   ]
  },
  {
   "cell_type": "code",
   "execution_count": 42,
   "metadata": {},
   "outputs": [
    {
     "data": {
      "text/plain": [
       "0.6975498751455563"
      ]
     },
     "execution_count": 42,
     "metadata": {},
     "output_type": "execute_result"
    }
   ],
   "source": [
    "m1_score"
   ]
  },
  {
   "cell_type": "code",
   "execution_count": 43,
   "metadata": {},
   "outputs": [
    {
     "data": {
      "text/plain": [
       "array([1, 1, 1, ..., 1, 1, 1])"
      ]
     },
     "execution_count": 43,
     "metadata": {},
     "output_type": "execute_result"
    }
   ],
   "source": [
    "y_pred"
   ]
  },
  {
   "cell_type": "markdown",
   "metadata": {},
   "source": [
    "After Creating The Hybrid_Model I an say that while using LogisticRegression acurracy_score a point better than Decision Tree"
   ]
  },
  {
   "cell_type": "code",
   "execution_count": null,
   "metadata": {},
   "outputs": [],
   "source": []
  },
  {
   "cell_type": "code",
   "execution_count": null,
   "metadata": {},
   "outputs": [],
   "source": []
  },
  {
   "cell_type": "code",
   "execution_count": null,
   "metadata": {},
   "outputs": [],
   "source": []
  },
  {
   "cell_type": "code",
   "execution_count": null,
   "metadata": {},
   "outputs": [],
   "source": []
  },
  {
   "cell_type": "code",
   "execution_count": null,
   "metadata": {},
   "outputs": [],
   "source": []
  }
 ],
 "metadata": {
  "kernelspec": {
   "display_name": "TSP",
   "language": "python",
   "name": "myenv"
  },
  "language_info": {
   "codemirror_mode": {
    "name": "ipython",
    "version": 3
   },
   "file_extension": ".py",
   "mimetype": "text/x-python",
   "name": "python",
   "nbconvert_exporter": "python",
   "pygments_lexer": "ipython3",
   "version": "3.8.3"
  }
 },
 "nbformat": 4,
 "nbformat_minor": 4
}
